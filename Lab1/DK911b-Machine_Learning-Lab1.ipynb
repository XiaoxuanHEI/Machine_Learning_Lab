{
 "cells": [
  {
   "cell_type": "markdown",
   "metadata": {},
   "source": [
    "# scikit-learn Lab\n",
    "\n",
    " - scikit-learn is the leading machine learning software in Python\n",
    " - scikit-learn is a project started in Paris, Inria and Telecom Paris\n",
    " - scilkit-learn is easy to use and extend"
   ]
  },
  {
   "cell_type": "markdown",
   "metadata": {},
   "source": [
    "# I Tutorial"
   ]
  },
  {
   "cell_type": "markdown",
   "metadata": {},
   "source": [
    "## 1. Install scikit-learn:\n",
    "\n",
    "- https://scikit-learn.org/stable/install.html\n"
   ]
  },
  {
   "cell_type": "markdown",
   "metadata": {},
   "source": [
    "## 2. Follow the scikit-learn tutorial\n",
    "\n",
    "- https://scikit-learn.org/stable/tutorial/basic/tutorial.html"
   ]
  },
  {
   "cell_type": "markdown",
   "metadata": {},
   "source": [
    "## 3. Train your first classifier\n"
   ]
  },
  {
   "cell_type": "markdown",
   "metadata": {},
   "source": [
    "### Import packages"
   ]
  },
  {
   "cell_type": "code",
   "execution_count": 3,
   "metadata": {},
   "outputs": [],
   "source": [
    "import numpy as np\n",
    "from sklearn import datasets"
   ]
  },
  {
   "cell_type": "markdown",
   "metadata": {},
   "source": [
    "### Load and parse datafile"
   ]
  },
  {
   "cell_type": "code",
   "execution_count": 4,
   "metadata": {},
   "outputs": [
    {
     "name": "stdout",
     "output_type": "stream",
     "text": [
      "150\n"
     ]
    },
    {
     "data": {
      "text/plain": [
       "array([0, 1, 2])"
      ]
     },
     "execution_count": 4,
     "metadata": {},
     "output_type": "execute_result"
    }
   ],
   "source": [
    "iris = datasets.load_iris()\n",
    "iris_X = iris.data\n",
    "iris_y = iris.target\n",
    "print(len(iris_X))\n",
    "np.unique(iris_y)"
   ]
  },
  {
   "cell_type": "markdown",
   "metadata": {},
   "source": [
    "### Split data into training and test sets"
   ]
  },
  {
   "cell_type": "code",
   "execution_count": 5,
   "metadata": {},
   "outputs": [],
   "source": [
    "# Split iris data in train and test data\n",
    "# A random permutation, to split the data randomly\n",
    "\n",
    "np.random.seed(0)\n",
    "indices = np.random.permutation(len(iris_X))\n",
    "iris_X_train = iris_X[indices[:-10]]\n",
    "iris_y_train = iris_y[indices[:-10]]\n",
    "iris_X_test = iris_X[indices[-10:]]\n",
    "iris_y_test = iris_y[indices[-10:]]"
   ]
  },
  {
   "cell_type": "markdown",
   "metadata": {},
   "source": [
    "### Train a k-nearest neaighbors model"
   ]
  },
  {
   "cell_type": "code",
   "execution_count": 6,
   "metadata": {},
   "outputs": [
    {
     "data": {
      "text/plain": [
       "KNeighborsClassifier(algorithm='auto', leaf_size=30, metric='minkowski',\n",
       "                     metric_params=None, n_jobs=None, n_neighbors=5, p=2,\n",
       "                     weights='uniform')"
      ]
     },
     "execution_count": 6,
     "metadata": {},
     "output_type": "execute_result"
    }
   ],
   "source": [
    "# Create and fit a k−nearest−neighbor classifier\n",
    "from sklearn.neighbors import KNeighborsClassifier\n",
    "knn = KNeighborsClassifier()\n",
    "knn.fit(iris_X_train, iris_y_train)"
   ]
  },
  {
   "cell_type": "markdown",
   "metadata": {},
   "source": [
    "### Evaluate model on test instances and compute test error"
   ]
  },
  {
   "cell_type": "code",
   "execution_count": 7,
   "metadata": {
    "scrolled": true
   },
   "outputs": [
    {
     "data": {
      "text/plain": [
       "array([1, 2, 1, 0, 0, 0, 2, 1, 2, 0])"
      ]
     },
     "execution_count": 7,
     "metadata": {},
     "output_type": "execute_result"
    }
   ],
   "source": [
    "from sklearn.metrics import accuracy_score\n",
    "knn.predict(iris_X_test)"
   ]
  },
  {
   "cell_type": "code",
   "execution_count": 8,
   "metadata": {},
   "outputs": [
    {
     "data": {
      "text/plain": [
       "array([1, 1, 1, 0, 0, 0, 2, 1, 2, 0])"
      ]
     },
     "execution_count": 8,
     "metadata": {},
     "output_type": "execute_result"
    }
   ],
   "source": [
    "iris_y_test"
   ]
  },
  {
   "cell_type": "code",
   "execution_count": 9,
   "metadata": {},
   "outputs": [
    {
     "data": {
      "text/plain": [
       "0.9"
      ]
     },
     "execution_count": 9,
     "metadata": {},
     "output_type": "execute_result"
    }
   ],
   "source": [
    "accuracy_score(iris_y_test, knn.predict(iris_X_test))"
   ]
  },
  {
   "cell_type": "markdown",
   "metadata": {},
   "source": [
    "# II Task 1\n",
    "\n",
    " ### - What is the error of the KNN classifier trained in previous step?\n",
    " ### - What is the optimal parameter k for KNN classifier for iris dataset?"
   ]
  },
  {
   "cell_type": "code",
   "execution_count": 10,
   "metadata": {},
   "outputs": [
    {
     "name": "stdout",
     "output_type": "stream",
     "text": [
      "8 1.0\n"
     ]
    }
   ],
   "source": [
    "#write a function predict(k) in which k is the number of nearest neighbors and it returns accuracy\n",
    "def predict(k):\n",
    "    knn = KNeighborsClassifier(n_neighbors=k)\n",
    "    knn.fit(iris_X_train, iris_y_train)\n",
    "    knn.predict(iris_X_test)\n",
    "    return accuracy_score(iris_y_test, knn.predict(iris_X_test))\n",
    "\n",
    "k_max = 140\n",
    "k_min = 1\n",
    "k_best = 0\n",
    "max_accuracy = 0\n",
    "\n",
    "for k in range(k_min, k_max+1):\n",
    "    acc = predict(k)\n",
    "    if(acc>max_accuracy):\n",
    "        max_accuracy = acc\n",
    "        k_best = k\n",
    "\n",
    "print(k_best, max_accuracy)\n",
    "\n",
    "# in fact, accuracy score is always 1.0 when k changes from 8 to 24. The Quantity of X_test is limited."
   ]
  },
  {
   "cell_type": "markdown",
   "metadata": {},
   "source": [
    "# III Task 2\n",
    "\n",
    "### - Train another two classifiers for iris dataset. The documentation for supervised learning methods available in scikit-learn: https://scikit-learn.org/stable/supervised_learning.html#supervised-learning\n",
    "### - Use cross-validation to evaluate classifiers.\n",
    "### - Compare evaluation results of the three classifiers."
   ]
  },
  {
   "cell_type": "code",
   "execution_count": 11,
   "metadata": {},
   "outputs": [
    {
     "name": "stdout",
     "output_type": "stream",
     "text": [
      "0.9\n",
      "[1.         0.85714286 1.         1.         0.92592593]\n",
      "0.9\n",
      "[1.         0.82142857 0.75       0.96296296 0.92592593]\n"
     ]
    }
   ],
   "source": [
    "from sklearn import svm\n",
    "from sklearn.model_selection import cross_val_score\n",
    "\n",
    "clf = svm.SVC(gamma='scale')\n",
    "clf.fit(iris_X_train, iris_y_train)\n",
    "print(accuracy_score(iris_y_test, clf.predict(iris_X_test)))  \n",
    "print(cross_val_score(clf, iris_X_train, iris_y_train, cv=5))\n",
    "\n",
    "from sklearn.linear_model import SGDClassifier\n",
    "clf = SGDClassifier()\n",
    "clf.fit(iris_X_train, iris_y_train)\n",
    "print(accuracy_score(iris_y_test, clf.predict(iris_X_test))) \n",
    "print(cross_val_score(clf, iris_X_train, iris_y_train, cv=5))\n",
    "\n",
    "#If we make X_train : X_test = 14 : 1, the accuracy of KNN can be 1, the other 2 classifiers give the same accuracy score.\n",
    "#If we change the number of two sets, there is little difference between the accuracy of KNN and SVM. The error rate of SGD is higher."
   ]
  },
  {
   "cell_type": "markdown",
   "metadata": {},
   "source": [
    "# Submission:\n",
    "\n",
    "### This lab is due on 16th of October, 2019. Your report, in the form of Jupyter Notebook and pdf, send on: filippo.miatto@telecom-paristech.fr "
   ]
  }
 ],
 "metadata": {
  "kernelspec": {
   "display_name": "Python 3",
   "language": "python",
   "name": "python3"
  },
  "language_info": {
   "codemirror_mode": {
    "name": "ipython",
    "version": 3
   },
   "file_extension": ".py",
   "mimetype": "text/x-python",
   "name": "python",
   "nbconvert_exporter": "python",
   "pygments_lexer": "ipython3",
   "version": "3.7.4"
  }
 },
 "nbformat": 4,
 "nbformat_minor": 2
}
