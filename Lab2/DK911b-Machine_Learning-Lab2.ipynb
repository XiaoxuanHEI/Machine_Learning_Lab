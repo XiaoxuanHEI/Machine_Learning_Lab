{
 "cells": [
  {
   "cell_type": "markdown",
   "metadata": {},
   "source": [
    "# Scikit-Lab 2\n",
    "\n",
    " - scikit-learn is the leading machine learning software in Python\n",
    " - scikit-learn is a project started in Paris, Inria and Telecom Paris\n",
    " - scilkit-learn is easy to use and extend"
   ]
  },
  {
   "cell_type": "markdown",
   "metadata": {},
   "source": [
    "# Task 1:\n",
    "### - Implement a majority class classifier: a classifier that predicts the class label that is most frequent in the dataset.\n",
    "\n",
    "- Classifiers in scikit-learn has two main methods:\n",
    "    - Build a model: fit(self, X, Y)\n",
    "    - Make a prediction: predict(self, X)\n",
    "    \n",
    "- Template for implementing classifier is given:"
   ]
  },
  {
   "cell_type": "code",
   "execution_count": 6,
   "metadata": {},
   "outputs": [],
   "source": [
    "class NewClassifier:\n",
    "    def __init__(self):\n",
    "        pass\n",
    "        \n",
    "    def fit(self, X, Y):\n",
    "        self.label = 0\n",
    "        dict = {}\n",
    "        for y in Y:\n",
    "            if y in dict:\n",
    "                dict[y] = dict[y] + 1\n",
    "            else:\n",
    "                dict[y] = 1\n",
    "        for i in dict.keys():\n",
    "            if dict[i] > dict[self.label] :\n",
    "                self.label = i\n",
    "        return self\n",
    "    \n",
    "    def predict(self, X):\n",
    "        Y = []\n",
    "        for x in X:\n",
    "            Y.append(self.label)\n",
    "        return Y\n",
    "        "
   ]
  },
  {
   "cell_type": "markdown",
   "metadata": {},
   "source": [
    "\n",
    "     \n",
    "# Task 2:\n",
    "### - Implement k-fold cross validation\n"
   ]
  },
  {
   "cell_type": "code",
   "execution_count": 11,
   "metadata": {},
   "outputs": [],
   "source": [
    "from sklearn.model_selection import KFold\n",
    "\n",
    "def cross_validation(clf, dataset, n_folds):\n",
    "    X = dataset.data\n",
    "    Y = dataset.target\n",
    "    KF = KFold(n_splits=n_folds,shuffle=True)\n",
    "    \n",
    "    sum = 0.0\n",
    "    \n",
    "    for train_index,test_index in KF.split(X):\n",
    "        X_train,X_test=X[train_index],X[test_index]\n",
    "        Y_train,Y_test=Y[train_index],Y[test_index]\n",
    "        clf.fit(X_train, Y_train)\n",
    "        Y_pre = clf.predict(X_test)\n",
    "        accuracy = 0.0\n",
    "        count = 0\n",
    "        for i in range(len(Y_test)):\n",
    "            if Y_pre[i] == Y_test[i]:\n",
    "                count = count + 1\n",
    "        accuracy = count/len(Y_test)\n",
    "        sum += accuracy\n",
    "        \n",
    "    score = sum/n_folds\n",
    "    return score"
   ]
  },
  {
   "cell_type": "markdown",
   "metadata": {},
   "source": [
    "# Task 3:\n",
    "### Use the majority class classifier to evaluate one dataset, and explain the evaluation results:\n",
    "\n",
    "- https://scikit-learn.org/stable/datasets/index.html "
   ]
  },
  {
   "cell_type": "code",
   "execution_count": 12,
   "metadata": {},
   "outputs": [
    {
     "name": "stdout",
     "output_type": "stream",
     "text": [
      "[2, 2, 2, 2, 2, 2, 2, 2, 2, 2]\n"
     ]
    },
    {
     "data": {
      "text/plain": [
       "0.2733333333333333"
      ]
     },
     "execution_count": 12,
     "metadata": {},
     "output_type": "execute_result"
    }
   ],
   "source": [
    "import numpy as np\n",
    "from sklearn import datasets\n",
    "\n",
    "iris = datasets.load_iris()\n",
    "iris_X = iris.data\n",
    "iris_y = iris.target\n",
    "np.random.seed(0)\n",
    "indices = np.random.permutation(len(iris_X))\n",
    "iris_X_train = iris_X[indices[:-10]]\n",
    "iris_y_train = iris_y[indices[:-10]]\n",
    "iris_X_test = iris_X[indices[-10:]]\n",
    "iris_y_test = iris_y[indices[-10:]]\n",
    "\n",
    "\n",
    "clf = NewClassifier()\n",
    "clf.fit(iris_X_train, iris_y_train)\n",
    "result = clf.predict(iris_X_test)\n",
    "print(result)\n",
    "\n",
    "cross_validation(clf,iris,5)"
   ]
  },
  {
   "cell_type": "markdown",
   "metadata": {},
   "source": [
    "# Task 4: ***OPTIONAL*** \n",
    "\n",
    "### - Implement another classifier with higher performance than the majority class classifier, evaluate it and comment the results\n",
    "\n",
    "### - Create my own KNN classifier:"
   ]
  },
  {
   "cell_type": "code",
   "execution_count": 13,
   "metadata": {},
   "outputs": [],
   "source": [
    "from scipy.spatial import distance\n",
    "\n",
    "def euc(a,b):\n",
    "    return distance.euclidean(a,b)\n",
    "\n",
    "class KNNClassifier:\n",
    "    def __init__(self, k): \n",
    "        self.k = k\n",
    "\n",
    "    def fit(self, X_train, Y_train):\n",
    "        self.X_train = X_train\n",
    "        self.Y_train = Y_train\n",
    "\n",
    "    def predict(self, X_test):\n",
    "        Y_pre = np.zeros(len(X_test))\n",
    "        for i in range(len(X_test)):\n",
    "            distances = np.zeros((len(self.X_train),2))\n",
    "            for j in range(len(self.X_train)):\n",
    "                dist = euc(X_test[i],self.X_train[j])\n",
    "                distances[j] = [dist,self.Y_train[j]]\n",
    "            sortedKDistances = distances[distances[:,0].argsort()][:self.k]\n",
    "            labels = np.bincount(sortedKDistances[:,1].astype('int'))\n",
    "            Y_pre[i] = labels.argmax()\n",
    "            \n",
    "        return Y_pre\n",
    "        "
   ]
  },
  {
   "cell_type": "markdown",
   "metadata": {},
   "source": [
    "### - Test my KNN\n"
   ]
  },
  {
   "cell_type": "code",
   "execution_count": 14,
   "metadata": {
    "scrolled": true
   },
   "outputs": [
    {
     "name": "stdout",
     "output_type": "stream",
     "text": [
      "[1. 2. 1. 0. 0. 0. 2. 1. 2. 0.]\n",
      "[1 1 1 0 0 0 2 1 2 0]\n"
     ]
    }
   ],
   "source": [
    "knn = KNNClassifier(k = 5)\n",
    "knn.fit(iris_X_train, iris_y_train)\n",
    "predictions = knn.predict(iris_X_test)\n",
    "print(predictions)\n",
    "print(iris_y_test)"
   ]
  },
  {
   "cell_type": "markdown",
   "metadata": {},
   "source": [
    "### - Use k-fold cross validation to evaluate my KNN\n"
   ]
  },
  {
   "cell_type": "code",
   "execution_count": 15,
   "metadata": {},
   "outputs": [
    {
     "data": {
      "text/plain": [
       "0.9530583214793741"
      ]
     },
     "execution_count": 15,
     "metadata": {},
     "output_type": "execute_result"
    }
   ],
   "source": [
    "cross_validation(knn, iris, 4)"
   ]
  },
  {
   "cell_type": "markdown",
   "metadata": {},
   "source": [
    "# Submit your Jupyter notebook and pdf version of it to filippo.miatto@telecom-paristech.fr until 23rd of October, 2019."
   ]
  }
 ],
 "metadata": {
  "kernelspec": {
   "display_name": "Python 3",
   "language": "python",
   "name": "python3"
  },
  "language_info": {
   "codemirror_mode": {
    "name": "ipython",
    "version": 3
   },
   "file_extension": ".py",
   "mimetype": "text/x-python",
   "name": "python",
   "nbconvert_exporter": "python",
   "pygments_lexer": "ipython3",
   "version": "3.7.4"
  }
 },
 "nbformat": 4,
 "nbformat_minor": 2
}
